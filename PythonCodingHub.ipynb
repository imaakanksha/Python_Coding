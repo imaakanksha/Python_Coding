{
 "cells": [
  {
   "cell_type": "markdown",
   "metadata": {},
   "source": [
    "#USING FOR LOOP\n",
    "\n",
    "#2ND CASE = 145! = 1! + 4! + 5! = 1 + 24 + 120 = 145\n",
    "\n",
    "#PRINT NUMBER FROM 1 TO 1 LAKH WHERE THE 'SUMMATION' OF THE \n",
    "\"FACTORIAL OF EACH DIGIT\" EQUALS TO THE \"ACTUAL NUMBER\"\n",
    "\n",
    "#PRINT THE LIST OF NUMBERS THAT FOLLOWS THE CASE WITHIN  INTERVAL:\n"
   ]
  },
  {
   "cell_type": "code",
   "execution_count": 4,
   "metadata": {},
   "outputs": [
    {
     "name": "stdout",
     "output_type": "stream",
     "text": [
      "The list of number:\n",
      "1\n",
      "2\n",
      "145\n",
      "40585\n",
      "1\n",
      "2\n",
      "145\n",
      "None\n"
     ]
    }
   ],
   "source": [
    "def factorial(n):\n",
    "    facto = 1\n",
    "    for i in range(1,n+1):\n",
    "        facto = facto * i\n",
    "    return facto\n",
    "\n",
    "def facto_sum(start,end):\n",
    "    for n in range(start,end):\n",
    "        temp=n\n",
    "        sum = 0\n",
    "        while (temp>0):\n",
    "            digit=temp%10\n",
    "            temp = temp // 10\n",
    "            facto=factorial(digit)\n",
    "            sum = sum +facto\n",
    "        if sum == n:\n",
    "            print(n)\n",
    "\n",
    "print(\"The list of number:\")\n",
    "facto_sum(1,200000)\n",
    "print(facto_sum(1,2000))"
   ]
  },
  {
   "cell_type": "markdown",
   "metadata": {},
   "source": [
    "\n",
    "#FACTROIAL NUMBER\n",
    "\n",
    "#USING FOR LOOP\n",
    "\n",
    "#2ND CASE = 145! = 1! + 4! + 5! = 1 + 24 + 120 = 145\n",
    "\n",
    "#TO CHECK IF THE GIVEN NUMBER FOLLOWS THE ABOVE MENTIONED CASE OR NOT"
   ]
  },
  {
   "cell_type": "code",
   "execution_count": 6,
   "metadata": {},
   "outputs": [
    {
     "name": "stdout",
     "output_type": "stream",
     "text": [
      "Yes\n"
     ]
    }
   ],
   "source": [
    "def sum_of_factorial(n):\n",
    "    temp = n\n",
    "    sum = 0\n",
    "    while (temp>0):\n",
    "        digit = temp % 10\n",
    "        temp = temp // 10\n",
    "        facto = factorial(digit)\n",
    "        sum = sum + facto\n",
    "    if sum == n:\n",
    "        print('Yes')\n",
    "    else:\n",
    "        print('No')\n",
    "\n",
    "sum_of_factorial(145)"
   ]
  },
  {
   "cell_type": "markdown",
   "metadata": {},
   "source": [
    "TO SORT THE LIST AND REMOVE THE REPEATED ELEMENTS\n",
    "\n",
    "lst=[9,1,2,1,3,4,5,6,4,3,6,7,43,4,5,6,3,4,5,6,6,7,8,4,3,4,5,6,565,897]"
   ]
  },
  {
   "cell_type": "code",
   "execution_count": 15,
   "metadata": {},
   "outputs": [
    {
     "ename": "SyntaxError",
     "evalue": "invalid syntax (2356944764.py, line 3)",
     "output_type": "error",
     "traceback": [
      "\u001b[1;36m  Cell \u001b[1;32mIn[15], line 3\u001b[1;36m\u001b[0m\n\u001b[1;33m    for i in range lst:\u001b[0m\n\u001b[1;37m                   ^\u001b[0m\n\u001b[1;31mSyntaxError\u001b[0m\u001b[1;31m:\u001b[0m invalid syntax\n"
     ]
    }
   ],
   "source": [
    "lst=[9,1,2,1,2,3,4,5,6,3,2,4,7,6,43,4,5,6,3,4,5,6,7,6,8,4,3,4,5,6,565,897]\n",
    "ls=[]\n",
    "for i in range lst:\n",
    "    print(lst)\n"
   ]
  }
 ],
 "metadata": {
  "kernelspec": {
   "display_name": "Python 3",
   "language": "python",
   "name": "python3"
  },
  "language_info": {
   "codemirror_mode": {
    "name": "ipython",
    "version": 3
   },
   "file_extension": ".py",
   "mimetype": "text/x-python",
   "name": "python",
   "nbconvert_exporter": "python",
   "pygments_lexer": "ipython3",
   "version": "3.12.4"
  }
 },
 "nbformat": 4,
 "nbformat_minor": 2
}
